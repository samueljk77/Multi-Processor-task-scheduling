{
  "nbformat": 4,
  "nbformat_minor": 0,
  "metadata": {
    "colab": {
      "provenance": []
    },
    "kernelspec": {
      "name": "python3",
      "display_name": "Python 3"
    },
    "language_info": {
      "name": "python"
    }
  },
  "cells": [
    {
      "cell_type": "code",
      "source": [
        "pip install pyeasyga"
      ],
      "metadata": {
        "colab": {
          "base_uri": "https://localhost:8080/"
        },
        "id": "5CexXe3a5Ojh",
        "outputId": "fd25bbc7-e226-432c-b318-534e5e3905cc"
      },
      "execution_count": null,
      "outputs": [
        {
          "output_type": "stream",
          "name": "stdout",
          "text": [
            "Looking in indexes: https://pypi.org/simple, https://us-python.pkg.dev/colab-wheels/public/simple/\n",
            "Collecting pyeasyga\n",
            "  Downloading pyeasyga-0.3.1.tar.gz (20 kB)\n",
            "  Preparing metadata (setup.py) ... \u001b[?25l\u001b[?25hdone\n",
            "Requirement already satisfied: six in /usr/local/lib/python3.10/dist-packages (from pyeasyga) (1.16.0)\n",
            "Building wheels for collected packages: pyeasyga\n",
            "  Building wheel for pyeasyga (setup.py) ... \u001b[?25l\u001b[?25hdone\n",
            "  Created wheel for pyeasyga: filename=pyeasyga-0.3.1-py2.py3-none-any.whl size=6803 sha256=9502bf9ed8b08da0b6268e822d6efc63c996e0da2495a699381295af365e8f4d\n",
            "  Stored in directory: /root/.cache/pip/wheels/a7/92/a5/adeab3fb04006374ec9a017fbb3a8139643ccfd6ad83a0c85f\n",
            "Successfully built pyeasyga\n",
            "Installing collected packages: pyeasyga\n",
            "Successfully installed pyeasyga-0.3.1\n"
          ]
        }
      ]
    },
    {
      "cell_type": "code",
      "source": [
        "#!/usr/bin/env python3\n",
        "# -*- coding: utf-8 -*-\n",
        "\n",
        "from time import time\n",
        "\n",
        "\n",
        "'''T = 2 # number of jobs\n",
        "ni =[2,2] # number of operations of the job i\n",
        "ma = 2 # number of machines\n",
        "Mij = [[1,2],[1],[2],[1,2]]\n",
        "pjk = [[3,4],[5,1000],[1000,6],[2,2]]'''\n",
        "\n",
        "T = 3 # number of jobs\n",
        "ni =[2,2,2] # number of operations of the job i\n",
        "ma = 2 # number of machines\n",
        "Mij = [[1,2],[1,2],[1],[1,2],[2],[1,2]]\n",
        "pjk = [[3,4],[5,4],[2,1000],[2,4],[1000,3],[1,2]]\n",
        "\n",
        "#T = 4 # number of jobs\n",
        "#ni =[1,3,2,2] # number of operations of the job i\n",
        "#ma = 3 # number of machines\n",
        "#Mij = [[1,2,3],[1,3],[3],[1,2],[1,3],[1,2],[1,2,3],[1,3]]\n",
        "#pjk = [[3,4,3],[5,1000,5],[1000,1000,6],[2,4,3],[1,1000,3],[1,2,1000],[2,2,2],[1,1000,1000]]\n",
        "\n",
        "#T = 3 # number of jobs\n",
        "#ni =[2,3,4] # number of operations of the job i\n",
        "#ma = 5 # number of machines\n",
        "#Mij = [[1,2,3,4,5],[1,3,4],[3,2],[1,2,5],[1,3,4],[1,2],[1,2,3],[1,3,5],[1,5]]\n",
        "#pjk = [[3,4,3,4,4],[5,1000,5,4,1000],[1000,4,6,1000,1000],[2,4,1000,1000,4],\n",
        "#       [1,1000,3,4,1000],[1,2,1000,1000,1000],[2,2,2,1000,1000],[1,1000,1,1000,2],\n",
        "#       [4,1000,1000,1000,3]]\n",
        "\n",
        "'''T = 4 # number of jobs\n",
        "ni =[2,3,4,2] # number of operations of the job i\n",
        "ma = 6 # number of machines\n",
        "Mij = [[1,2,3,4,5],[1,3,4,6],[1,3,2],[1,2,5],[1,2,3,4],[1,2,5],[1,2,3,6],[1,3,5],[1,5,6],\n",
        "       [1,6],[2,3,4]]\n",
        "pjk = [[3,4,3,4,4,1000],[5,1000,5,4,1000,4],[3,4,6,1000,1000,1000],[2,4,1000,1000,4,1000],\n",
        "       [1,3,3,2,1000,1000],[1,3,1000,1000,2,1000],[2,2,2,1000,1000,2],[1,1000,1,1000,2,1000],\n",
        "       [4,1000,1000,1000,3,3],[3,1000,1000,1000,1000,4],[1000,5,3,4,1000,1000]] '''\n",
        "\n",
        "from pyeasyga import pyeasyga # import the library to be used\n",
        "import random\n",
        "\n",
        "data=[]\n",
        "\n",
        "data.append(T)\n",
        "data.append(ni)\n",
        "data.append(ma)\n",
        "data.append(Mij)\n",
        "data.append(pjk)\n",
        "\n",
        "def is_data_ok(data):\n",
        "  sum_ni=0\n",
        "  for i in range(0,len(data[1])):\n",
        "    sum_ni+=data[1][i]\n",
        "  if len(data[1])!=data[0]:\n",
        "    print(\"Data invalid. Please check the length of ni list\")\n",
        "    exit\n",
        "  elif len(data[3])!=sum_ni:\n",
        "    print(\"Data invalid. Please check the length of Mij list\")\n",
        "    exit\n",
        "  elif len(data[4])!=sum_ni:\n",
        "    print(\"Data invalid. Please check the length of pjk list\")\n",
        "    exit\n",
        "\n",
        "is_data_ok(data)\n",
        "\n",
        "\n",
        "def max_processing_time(data):\n",
        "    pjk=data[4]\n",
        "    max_time=0\n",
        "    for i in range(0,len(pjk)):\n",
        "        for j in range(0,len(pjk[i])):\n",
        "            if pjk[i][j]>max_time and pjk[i][j]!=1000:\n",
        "                max_time=pjk[i][j]\n",
        "    return max_time\n",
        "\n",
        "\n",
        "def create_individual(data):\n",
        "    individual=[]\n",
        "    start_times=[0]*data[2]\n",
        "    jobs=data[0]\n",
        "    list_to=[2,1,2,0,1,2,0,1,1,0]\n",
        "    random_number=random.randint(0,len(list_to)-1)\n",
        "    reference=list_to[random_number]\n",
        "    if reference == 1:\n",
        "      a=0\n",
        "      for i in range(0,jobs):\n",
        "          for j in range(0,data[1][i]):\n",
        "              position_X=random.randint(0,len(data[3][a])-1)\n",
        "              X=data[3][a][position_X]\n",
        "              S=start_times[X-1]\n",
        "              individual.append(S)\n",
        "              individual.append(X)\n",
        "              start_times[X-1]=start_times[X-1]+data[4][a][X-1]\n",
        "              a+=1\n",
        "    elif reference == 2:\n",
        "      a=len(data[3])-1\n",
        "      for i in range(0,jobs):\n",
        "          for j in range(0,data[1][i]):\n",
        "              position_X=random.randint(0,len(data[3][a])-1)\n",
        "              X=data[3][a][position_X]\n",
        "              S=start_times[X-1]\n",
        "              individual.append(S)\n",
        "              individual.append(X)\n",
        "              start_times[X-1]=start_times[X-1]+data[4][a][X-1]\n",
        "              a-=1\n",
        "    else:\n",
        "      for i in range(0,jobs):\n",
        "          for j in range(0,data[1][i]):\n",
        "              X=random.randint(1,data[2])\n",
        "              max_time=max_processing_time(data)\n",
        "              S=random.randint(0,max_time)\n",
        "              individual.append(S)\n",
        "              individual.append(X)\n",
        "    return individual\n",
        "\n",
        "def mutate(individual):\n",
        "  mutate_index1=random.randrange(len(individual))\n",
        "  mutate_index2=random.randrange(len(individual))\n",
        "  #max_time=max_processing_time(data)\n",
        "  if ((mutate_index1%2)==0 and (mutate_index2%2)==0) or ((mutate_index1%2)!=0 and \\\n",
        "      (mutate_index2%2!=0)):\n",
        "    individual[mutate_index1], individual[mutate_index2] = individual[mutate_index2], individual[mutate_index1]\n",
        "  elif (mutate_index1%2)==0 and (mutate_index2%2)!=0:\n",
        "    #if individual[mutate_index1]>(max_time/2):\n",
        "     # individual[mutate_index1]=individual[mutate_index1]+random.randint(-(max_time/2),(max_time/2))\n",
        "    new_index=random.randrange(0,len(individual),2)\n",
        "    individual[mutate_index1], individual[new_index] = individual[new_index], individual[mutate_index1]\n",
        "    individual[mutate_index2]=random.randint(1,data[2])\n",
        "  else:\n",
        "    #if individual[mutate_index2]>(max_time/2):\n",
        "     # individual[mutate_index2]=individual[mutate_index2]+random.randint(-(max_time/2),(max_time/2))\n",
        "    new_index=random.randrange(0,len(individual),2)\n",
        "    individual[mutate_index2], individual[new_index] = individual[new_index], individual[mutate_index2]\n",
        "    individual[mutate_index1]=random.randint(1,data[2])\n",
        "\n",
        "\n",
        "def is_feasible_machine(operation,machine,data):\n",
        "    Mij=data[3]\n",
        "    count=0\n",
        "    for i in range(0,len(Mij[operation])):\n",
        "        if machine==Mij[operation][i]:\n",
        "            count+=1\n",
        "    if count == 0:\n",
        "        return False\n",
        "    else:\n",
        "        return True\n",
        "\n",
        "def operations_in_machine(machine,individual):\n",
        "    result=[]\n",
        "    i=0\n",
        "    while i<len(individual):\n",
        "        if individual[i+1]==machine:\n",
        "            result.append(int(i/2))\n",
        "        i+=2\n",
        "    return result\n",
        "\n",
        "def fitness(individual,data):\n",
        "    fitness=0\n",
        "    pjk=data[4]\n",
        "    i=0\n",
        "    for op in range(0,len(pjk)):\n",
        "        if (individual[i]+pjk[op][individual[i+1]-1])>fitness:\n",
        "            fitness=individual[i]+pjk[op][individual[i+1]-1]\n",
        "        i+=2\n",
        "\n",
        "    fouls=0\n",
        "    j=0\n",
        "    k=0\n",
        "    for job in range(0,len(ni)):\n",
        "        for op2 in range(0,ni[job]-1):\n",
        "          if (individual[j]+pjk[k][individual[j+1]-1])>individual[j+2] or\\\n",
        "            individual[j]>=individual[j+2]:\n",
        "              fouls+=4\n",
        "          j+=2\n",
        "          k+=1\n",
        "        j+=2\n",
        "        k+=1\n",
        "\n",
        "    l=0\n",
        "    while l<len(individual):\n",
        "        if not is_feasible_machine(int(l/2),individual[l+1],data):\n",
        "            fouls+=2\n",
        "        l+=2\n",
        "\n",
        "\n",
        "    count_zeros=0\n",
        "    for machine2 in range(1,data[2]+1):\n",
        "      #count_zeros=0\n",
        "      operations2=operations_in_machine(machine2,individual)\n",
        "      for op4 in range(0,len(operations2)):\n",
        "        if individual[operations2[op4]*2]==0:\n",
        "          count_zeros+=1\n",
        "        start_reference=individual[operations2[op4]*2]\n",
        "        end_reference=individual[operations2[op4]*2]+pjk[operations2[op4]][machine2-1]\n",
        "        for op5 in range(0,len(operations2)):\n",
        "          if op5 != op4:\n",
        "            s=individual[operations2[op5]*2]\n",
        "            c=individual[operations2[op5]*2]+pjk[operations2[op5]][machine2-1]\n",
        "            if s<=start_reference and c>=end_reference:\n",
        "              fouls+=2\n",
        "            elif s>=start_reference and s<=end_reference and c<=end_reference:\n",
        "              fouls+=2\n",
        "            elif s<=start_reference and c>start_reference and c<=end_reference:\n",
        "              fouls+=2\n",
        "            elif s>=start_reference and s<end_reference and c>=end_reference:\n",
        "              fouls+=2\n",
        "      #if count_zeros != 1:\n",
        "        #fouls+=1\n",
        "    if count_zeros == 0:\n",
        "      fouls+=1\n",
        "    fitness=fitness+(fouls*1000)\n",
        "    return fitness\n",
        "\n",
        "\n",
        "steps=[]\n",
        "count_increment=0\n",
        "\n",
        "def genetic_algorithm_scheduling(data,counter,pop_size=100,num_generations=500):\n",
        "  start_time=time()\n",
        "  ga=pyeasyga.GeneticAlgorithm(data,maximise_fitness=False,population_size=pop_size,generations=num_generations,mutation_probability=0.3) # initialization of the algorithm\n",
        "  ga.create_individual=create_individual\n",
        "  ga.mutate_function=mutate\n",
        "  ga.fitness_function=fitness\n",
        "  ga.run()\n",
        "  best_individual=ga.best_individual()\n",
        "  steps.append(best_individual)\n",
        "  best_fitness=best_individual[0]\n",
        "  if best_fitness>1000 and counter<10:\n",
        "    counter+=1\n",
        "    new_generations=num_generations+100\n",
        "    print(\"Incrementing generations to \",new_generations,\"......\")\n",
        "    genetic_algorithm_scheduling(data,counter,pop_size,new_generations)\n",
        "  elif best_fitness>1000 and counter==10:\n",
        "    print(\"Feasible individual wasn't found!\")\n",
        "    print(\"Best infeasible individual: \",ga.best_individual())\n",
        "    end_time=time()\n",
        "    print(\"The execution time was: \",(end_time-start_time),\" seconds\")\n",
        "  elif best_fitness<1000:\n",
        "    end_time=time()\n",
        "    print(\"Best feasible individual found! \",ga.best_individual())\n",
        "    print(\"The execution time was: \",(end_time-start_time),\" seconds\")\n",
        "    print(\"These were the different best individuals:\")\n",
        "    for i in range(0,len(steps)):\n",
        "      print(steps[i])\n",
        "    return steps\n",
        "\n",
        "\n",
        "steps = genetic_algorithm_scheduling(data,count_increment,pop_size=200)\n"
      ],
      "metadata": {
        "colab": {
          "base_uri": "https://localhost:8080/"
        },
        "id": "Hxbrgl8RskmI",
        "outputId": "66e1214a-6fc2-4fbb-d696-56c137a06b1c"
      },
      "execution_count": null,
      "outputs": [
        {
          "output_type": "stream",
          "name": "stdout",
          "text": [
            "Best feasible individual found!  (10, [0, 1, 3, 2, 3, 1, 8, 1, 0, 2, 8, 2])\n",
            "The execution time was:  6.593930244445801  seconds\n",
            "These were the different best individuals:\n",
            "(10, [0, 1, 3, 2, 3, 1, 8, 1, 0, 2, 8, 2])\n"
          ]
        }
      ]
    },
    {
      "cell_type": "code",
      "source": [
        "print(steps[0][1])"
      ],
      "metadata": {
        "colab": {
          "base_uri": "https://localhost:8080/"
        },
        "id": "rYtiKsW2bPO6",
        "outputId": "1be44ee9-96d9-408b-e857-bc54ea31380a"
      },
      "execution_count": null,
      "outputs": [
        {
          "output_type": "stream",
          "name": "stdout",
          "text": [
            "[0, 3, 3, 3, 0, 1, 4, 2, 8, 4, 0, 2, 4, 1, 6, 1, 7, 1, 4, 6, 8, 3]\n"
          ]
        }
      ]
    },
    {
      "cell_type": "code",
      "source": [
        "print(pjk[5][1]\n",
        "      )"
      ],
      "metadata": {
        "colab": {
          "base_uri": "https://localhost:8080/"
        },
        "id": "t0ZAF9WinODY",
        "outputId": "0dcf7305-7a00-47a0-90fb-b8ccfd3d63b0"
      },
      "execution_count": null,
      "outputs": [
        {
          "output_type": "stream",
          "name": "stdout",
          "text": [
            "3\n"
          ]
        }
      ]
    },
    {
      "cell_type": "code",
      "source": [
        "best_schedule = steps[0][1]\n",
        "start_time = []\n",
        "processor = []\n",
        "end_time = []\n",
        "k=0\n",
        "l=0\n",
        "for i in range(0,T):\n",
        "  li = []\n",
        "  proc = []\n",
        "  end = []\n",
        "  for j in range(0,ni[i]):\n",
        "    li.append(best_schedule[k])\n",
        "    proc.append(best_schedule[k+1])\n",
        "    end_t = best_schedule[k] + pjk[l][best_schedule[k+1]-1]\n",
        "    end.append(end_t)\n",
        "    k=k+2\n",
        "    l=l+1\n",
        "  start_time.append(li)\n",
        "  processor.append(proc)\n",
        "  end_time.append(end)\n",
        "\n",
        "print(start_time)\n",
        "print(processor)\n",
        "print(end_time)"
      ],
      "metadata": {
        "colab": {
          "base_uri": "https://localhost:8080/"
        },
        "id": "V1yOmXiWXdOj",
        "outputId": "fe58b030-8191-4692-9217-fa0282146fd9"
      },
      "execution_count": null,
      "outputs": [
        {
          "output_type": "stream",
          "name": "stdout",
          "text": [
            "[[0, 3], [0, 4, 8], [0, 4, 6, 7], [4, 8]]\n",
            "[[3, 3], [1, 2, 4], [2, 1, 1, 1], [6, 3]]\n",
            "[[3, 8], [3, 8, 10], [3, 6, 7, 11], [8, 11]]\n"
          ]
        }
      ]
    },
    {
      "cell_type": "code",
      "source": [
        "import matplotlib.pyplot as plt\n",
        "import plotly.express as px\n",
        "import pandas as pd\n",
        "\n",
        "def plot_schedule(schedule):\n",
        "\n",
        "  for proc in range(1,ma+1):\n",
        "    #df = pd.DataFrame()\n",
        "    start_times = []\n",
        "    end_times = []\n",
        "    y_labels= []\n",
        "    for i in range(0,T) :\n",
        "      for j in range(0,ni[i]):\n",
        "        if processor[i][j] == proc:\n",
        "          #df.append(dict(Task = 'T'+str(i)+str[j], Start = start_time[i][j], Finish = ))\n",
        "          start_times.append(start_time[i][j])\n",
        "          end_times.append(end_time[i][j])\n",
        "          y_labels.append('T'+str(i)+str(j))\n",
        "\n",
        "    print(start_times)\n",
        "    print(end_times)\n",
        "    if len(start_times) > 0:\n",
        "      fig, ax = plt.subplots(figsize=(8, 4))\n",
        "\n",
        "      for i in range(len(start_times)):\n",
        "        y = np.zeros(2) + i\n",
        "        x = [start_times[i], end_times[i]]\n",
        "        ax.plot(x, y,color='b', linewidth=6)\n",
        "\n",
        "\n",
        "    #ax.set_xlim([0,max(end_times)])\n",
        "      ax.set_xticks(range(len(range(0,max(end_times)+1))))\n",
        "      ax.set_xticklabels(range(0,max(end_times)+1))\n",
        "      ax.set_yticks(range(len(y_labels)))\n",
        "      ax.set_yticklabels(y_labels)\n",
        "      ax.set_xlabel('Timeline for processor {:d}'.format(proc))\n",
        "      ax.set_ylabel('Tasks')\n",
        "      plt.show()\n",
        "\n",
        "\n",
        "\n",
        "\n",
        "\n",
        "\n"
      ],
      "metadata": {
        "id": "K3AIwFq_J324"
      },
      "execution_count": null,
      "outputs": []
    },
    {
      "cell_type": "code",
      "source": [
        "plot_schedule(best_schedule)"
      ],
      "metadata": {
        "colab": {
          "base_uri": "https://localhost:8080/",
          "height": 1000
        },
        "id": "bwHSjTZzzopm",
        "outputId": "504581a9-b9f8-4948-b911-4ba701086ddd"
      },
      "execution_count": null,
      "outputs": [
        {
          "output_type": "stream",
          "name": "stdout",
          "text": [
            "[0, 4, 6, 7]\n",
            "[3, 6, 7, 11]\n"
          ]
        },
        {
          "output_type": "display_data",
          "data": {
            "text/plain": [
              "<Figure size 800x400 with 1 Axes>"
            ],
            "image/png": "[encoded data removed]"
          },
          "metadata": {}
        },
        {
          "output_type": "stream",
          "name": "stdout",
          "text": [
            "[4, 0]\n",
            "[8, 3]\n"
          ]
        },
        {
          "output_type": "display_data",
          "data": {
            "text/plain": [
              "<Figure size 800x400 with 1 Axes>"
            ],
            "image/png": "[encoded data removed]"
          },
          "metadata": {}
        },
        {
          "output_type": "stream",
          "name": "stdout",
          "text": [
            "[0, 3, 8]\n",
            "[3, 8, 11]\n"
          ]
        },
        {
          "output_type": "display_data",
          "data": {
            "text/plain": [
              "<Figure size 800x400 with 1 Axes>"
            ],
            "image/png": "[encoded data removed]"
          },
          "metadata": {}
        },
        {
          "output_type": "stream",
          "name": "stdout",
          "text": [
            "[8]\n",
            "[10]\n"
          ]
        },
        {
          "output_type": "display_data",
          "data": {
            "text/plain": [
              "<Figure size 800x400 with 1 Axes>"
            ],
            "image/png": "[encoded data removed]"
          },
          "metadata": {}
        },
        {
          "output_type": "stream",
          "name": "stdout",
          "text": [
            "[]\n",
            "[]\n",
            "[4]\n",
            "[8]\n"
          ]
        },
        {
          "output_type": "display_data",
          "data": {
            "text/plain": [
              "<Figure size 800x400 with 1 Axes>"
            ],
            "image/png": "[encoded data removed]"
          },
          "metadata": {}
        }
      ]
    },
    {
      "cell_type": "markdown",
      "source": [
        "## EDF Algorithm"
      ],
      "metadata": {
        "id": "d9Rp3amQK0a7"
      }
    },
    {
      "cell_type": "code",
      "source": [
        "import heapq\n",
        "\n",
        "class PeriodicTask:\n",
        "    def __init__(self, task_id, period, deadline, computation_time):\n",
        "        self.task_id = task_id\n",
        "        self.period = period\n",
        "        self.deadline = deadline\n",
        "        self.computation_time = computation_time\n",
        "        self.next_deadline = deadline\n",
        "        self.start_time = []\n",
        "        self.end_time = []\n",
        "\n",
        "    def __lt__(self, other):\n",
        "        return self.next_deadline < other.next_deadline\n",
        "\n",
        "    def execute(self, time):\n",
        "        print(f\"Executing task {self.task_id} at time {time}\")\n",
        "        self.start_time.append(time)\n",
        "        self.end_time.append(time+self.computation_time)\n",
        "        self.next_deadline += self.period\n",
        "\n",
        "    def reset(self):\n",
        "        self.next_deadline = self.deadline\n",
        "\n",
        "def edf(periodic_tasks, max_time):\n",
        "    task_queue = []\n",
        "    completed_tasks = []\n",
        "\n",
        "    for task in periodic_tasks:\n",
        "        heapq.heappush(task_queue, (task.deadline, task))\n",
        "\n",
        "    time = 0\n",
        "\n",
        "    while time < max_time:\n",
        "        if not task_queue:\n",
        "            print(\"No tasks available to execute.\")\n",
        "            break\n",
        "\n",
        "        _, task = heapq.heappop(task_queue)\n",
        "\n",
        "        if task.next_deadline <= time:\n",
        "            print(f\"Deadline missed for task {task.task_id} at time {time}\")\n",
        "\n",
        "        task.execute(time)\n",
        "\n",
        "        if task.next_deadline <= max_time:\n",
        "            heapq.heappush(task_queue, (task.next_deadline, task))\n",
        "        else:\n",
        "            completed_tasks.append(task)\n",
        "\n",
        "        time += task.computation_time\n",
        "\n",
        "    return completed_tasks\n"
      ],
      "metadata": {
        "id": "O0_2Zx1_rpwZ"
      },
      "execution_count": null,
      "outputs": []
    },
    {
      "cell_type": "code",
      "source": [
        "\n",
        "task1 = PeriodicTask(1, 5, 5, 2)\n",
        "task2 = PeriodicTask(2, 10, 10, 3)\n",
        "task3 = PeriodicTask(3, 20, 20, 4)\n",
        "\n",
        "\n",
        "completed_tasks = edf([task1, task2, task3], 50)\n",
        "\n",
        "print(\"Completed tasks:\")\n",
        "for task in completed_tasks:\n",
        "    print(f\"Task {task.task_id}\")\n"
      ],
      "metadata": {
        "colab": {
          "base_uri": "https://localhost:8080/"
        },
        "id": "ftztJ9OoHO5y",
        "outputId": "89a06c80-1f4d-4a63-c495-a18690aa2146"
      },
      "execution_count": null,
      "outputs": [
        {
          "output_type": "stream",
          "name": "stdout",
          "text": [
            "Executing task 1 at time 0\n",
            "Executing task 2 at time 2\n",
            "Executing task 1 at time 5\n",
            "Executing task 1 at time 7\n",
            "Executing task 2 at time 9\n",
            "Executing task 3 at time 12\n",
            "Executing task 1 at time 16\n",
            "Executing task 1 at time 18\n",
            "Executing task 2 at time 20\n",
            "Executing task 1 at time 23\n",
            "Executing task 1 at time 25\n",
            "Executing task 2 at time 27\n",
            "Executing task 3 at time 30\n",
            "Executing task 1 at time 34\n",
            "Executing task 1 at time 36\n",
            "Executing task 2 at time 38\n",
            "Executing task 1 at time 41\n",
            "No tasks available to execute.\n",
            "Completed tasks:\n",
            "Task 3\n",
            "Task 2\n",
            "Task 1\n"
          ]
        }
      ]
    },
    {
      "cell_type": "code",
      "source": [
        "combined_tasks = []\n",
        "t = completed_tasks.sort()\n",
        "for task in completed_tasks:\n",
        "  for x,y in zip(task.start_time, task.end_time):\n",
        "    t = (x,y,task.task_id-1)\n",
        "    combined_tasks.append(t)\n",
        "    #print(t)\n",
        "\n",
        "\n",
        "print(len(combined_tasks))"
      ],
      "metadata": {
        "colab": {
          "base_uri": "https://localhost:8080/"
        },
        "id": "N5Uv6m-jNqq7",
        "outputId": "29f49434-541b-4118-e7aa-3ab81304f53d"
      },
      "execution_count": null,
      "outputs": [
        {
          "output_type": "stream",
          "name": "stdout",
          "text": [
            "17\n"
          ]
        }
      ]
    },
    {
      "cell_type": "code",
      "source": [
        "import matplotlib.pyplot as plt\n",
        "\n",
        "def plot_gantt_chart(schedule, deadlines):\n",
        "\n",
        "    fig, ax = plt.subplots(figsize=(8,4))\n",
        "\n",
        "\n",
        "    ax.set_title('Earliest Deadline First Schedule')\n",
        "    ax.set_xlabel('Time')\n",
        "    ax.set_ylabel('Tasks')\n",
        "\n",
        "\n",
        "    ax.set_xlim(0, schedule[-1][1])\n",
        "\n",
        "\n",
        "    task_dict = {}\n",
        "    for start, end, task_id in schedule:\n",
        "        if task_id not in task_dict:\n",
        "            task_dict[task_id] = []\n",
        "        task_dict[task_id].append((start, end))\n",
        "\n",
        "\n",
        "    for i, task_id in enumerate(sorted(task_dict.keys())):\n",
        "        for start, end in task_dict[task_id]:\n",
        "            ax.broken_barh([(start, end-start)], (i+0.1, 0.1), facecolors='tab:blue')\n",
        "        #ax.text((task_dict[task_id][0][0] + task_dict[task_id][0][1]) / 2, i+0.5, f'D{deadlines[task_id]}', ha='center', va='center', color='white')\n",
        "\n",
        "\n",
        "    y_ticks = [f'Task {i+1}' for i in range(len(task_dict))]\n",
        "    ax.set_yticks(range(len(task_dict)))\n",
        "    ax.set_yticklabels(y_ticks)\n",
        "    plt.show()\n"
      ],
      "metadata": {
        "id": "MSd0UgspLxOL"
      },
      "execution_count": null,
      "outputs": []
    },
    {
      "cell_type": "code",
      "source": [
        "schedule = combined_tasks\n",
        "deadlines = [1,2,3,4,5,6,7,8,9,10,11,12,13,14,15,17,18]\n",
        "plot_gantt_chart(schedule, deadlines)\n"
      ],
      "metadata": {
        "colab": {
          "base_uri": "https://localhost:8080/",
          "height": 410
        },
        "id": "qbmY_fOEMkHj",
        "outputId": "1e865055-f197-4dce-d30b-1a2e9fe1a2d1"
      },
      "execution_count": null,
      "outputs": [
        {
          "output_type": "display_data",
          "data": {
            "text/plain": [
              "<Figure size 800x400 with 1 Axes>"
            ],
            "image/png": "[encoded data removed]"
          },
          "metadata": {}
        }
      ]
    },
    {
      "cell_type": "markdown",
      "source": [
        "# RTA"
      ],
      "metadata": {
        "id": "QPEeFebRzBRL"
      }
    },
    {
      "cell_type": "code",
      "source": [
        "import math"
      ],
      "metadata": {
        "id": "hO3W5XTnzdZ7"
      },
      "execution_count": null,
      "outputs": []
    },
    {
      "cell_type": "code",
      "source": [
        "def rta(tasks):\n",
        "\n",
        "    sorted_tasks = sorted(tasks, key=lambda t: t['period'])\n",
        "\n",
        "\n",
        "    response_times = [t['exec_time'] for t in sorted_tasks]\n",
        "\n",
        "    while True:\n",
        "        for i, task in enumerate(sorted_tasks):\n",
        "            new_response_time = task['exec_time'] + math.ceil(response_times[i] / task['period']) * task['exec_time']\n",
        "            if new_response_time != response_times[i]:\n",
        "                response_times[i] = new_response_time\n",
        "\n",
        "\n",
        "        if all(response_times[i] <= task['deadline'] for i, task in enumerate(sorted_tasks)):\n",
        "            return True\n",
        "\n",
        "        if all(response_times[i] == task['deadline'] or response_times[i] == response_times_old[i] for i, task in enumerate(sorted_tasks)):\n",
        "            return False\n",
        "\n",
        "\n",
        "        response_times_old = list(response_times)\n"
      ],
      "metadata": {
        "id": "3ZuxQOL0MplO"
      },
      "execution_count": null,
      "outputs": []
    },
    {
      "cell_type": "code",
      "source": [
        "tasks = [\n",
        "    {'exec_time': 2, 'period': 5, 'deadline': 4},\n",
        "    {'exec_time': 3, 'period': 10, 'deadline': 9},\n",
        "    {'exec_time': 4, 'period': 20, 'deadline': 19},\n",
        "]\n",
        "\n",
        "if rta(tasks):\n",
        "    print(\"Schedule is feasible\")\n",
        "else:\n",
        "    print(\"Schedule is not feasible\")\n"
      ],
      "metadata": {
        "colab": {
          "base_uri": "https://localhost:8080/"
        },
        "id": "R_siZGlhzIuY",
        "outputId": "b4eedeae-6af1-4a75-c735-34a999ac2662"
      },
      "execution_count": null,
      "outputs": [
        {
          "output_type": "stream",
          "name": "stdout",
          "text": [
            "Schedule is feasible\n"
          ]
        }
      ]
    },
    {
      "cell_type": "code",
      "source": [
        "import time"
      ],
      "metadata": {
        "id": "wG2yXdhj98dY"
      },
      "execution_count": null,
      "outputs": []
    },
    {
      "cell_type": "code",
      "source": [
        "import json\n",
        "import copy\n",
        "from sys import *\n",
        "from math import gcd\n",
        "from collections import OrderedDict\n",
        "import matplotlib.pyplot as plt\n",
        "import numpy as np\n",
        "import statistics as st\n",
        "from collections import defaultdict\n",
        "\n",
        "tasks = dict()\n",
        "RealTime_task = dict()\n",
        "metrics = defaultdict(dict)\n",
        "d = dict()\n",
        "dList = []\n",
        "T = []\n",
        "C = []\n",
        "U = []\n",
        "# For gantt chart\n",
        "y_axis  = []\n",
        "from_x = []\n",
        "to_x = []\n",
        "\n",
        "def Read_data():\n",
        "\n",
        "\tglobal n\n",
        "\tglobal hp\n",
        "\tglobal tasks\n",
        "\tglobal dList\n",
        "\n",
        "\tdList = {}\n",
        "\n",
        "\tn = int(input(\"\\n \\t\\tEnter number of Tasks:\"))\n",
        "\n",
        "\tfor  i in range(n):\n",
        "\t\tdList[\"TASK_%d\"%i] = {\"start\":[],\"finish\":[]}\n",
        "\n",
        "\tdList[\"TASK_IDLE\"] = {\"start\":[],\"finish\":[]}\n",
        "\n",
        "\tfor i in range(n):\n",
        "\t\ttasks[i] = {}\n",
        "\t\tprint(\"\\n\\n\\n Enter Period of task T\",i,\":\")\n",
        "\t\tp = input()\n",
        "\t\ttasks[i][\"Period\"] = int(p)\n",
        "\t\tprint(\"Enter the WCET of task C\",i,\":\")\n",
        "\t\tw = input()\n",
        "\t\ttasks[i][\"WCET\"] = int(w)\n",
        "\n",
        "\n",
        "\twith open('tasks.json','w') as outfile:\n",
        "\t\tjson.dump(tasks,outfile,indent = 4)\n",
        "\n",
        "def Hyperperiod():\n",
        "\n",
        "\ttemp = []\n",
        "\tfor i in range(n):\n",
        "\t\ttemp.append(tasks[i][\"Period\"])\n",
        "\tHP = temp[0]\n",
        "\tfor i in temp[1:]:\n",
        "\t\tHP = HP*i//gcd(HP, i)\n",
        "\tprint (\"\\n Hyperperiod:\",HP)\n",
        "\treturn HP\n",
        "\n",
        "def Schedulablity():\n",
        "\n",
        "\tfor i in range(n):\n",
        "\t\tT.append(int(tasks[i][\"Period\"]))\n",
        "\t\tC.append(int(tasks[i][\"WCET\"]))\n",
        "\t\tu = int(C[i])/int(T[i])\n",
        "\t\tU.append(u)\n",
        "\n",
        "\tU_factor = sum(U)\n",
        "\tif U_factor<=1:\n",
        "\t\tprint(\"\\nUtilization factor: \",U_factor, \"underloaded tasks\")\n",
        "\n",
        "\t\tsched_util = n*(2**(1/n)-1)\n",
        "\t\tprint(\"Checking condition: \",sched_util)\n",
        "\n",
        "\t\tcount = 0\n",
        "\t\tT.sort()\n",
        "\t\tfor i in range(len(T)):\n",
        "\t\t\tif T[i]%T[0] == 0:\n",
        "\t\t\t\tcount = count + 1\n",
        "\n",
        "\n",
        "\t\tif U_factor <= sched_util or count == len(T):\n",
        "\t\t\tprint(\"\\n\\tTasks are schedulable by Rate Monotonic Scheduling!\")\n",
        "\t\t\treturn True\n",
        "\t\telse:\n",
        "\t\t\tprint(\"\\n\\tTasks are not schedulable by Rate Monotonic Scheduling!\")\n",
        "\t\t\treturn False\n",
        "\tprint(\"\\n\\tOverloaded tasks!\")\n",
        "\tprint(\"\\n\\tUtilization factor > 1\")\n",
        "\treturn False\n",
        "\n",
        "def estimatePriority(RealTime_task):\n",
        "\n",
        "\ttempPeriod = hp\n",
        "\tP = -1    #Returns -1 for idle tasks\n",
        "\tfor i in RealTime_task.keys():\n",
        "\t\tif (RealTime_task[i][\"WCET\"] != 0):\n",
        "\t\t\tif (tempPeriod > RealTime_task[i][\"Period\"] or tempPeriod > tasks[i][\"Period\"]):\n",
        "\t\t\t\ttempPeriod = tasks[i][\"Period\"] #Checks the priority of each task based on period\n",
        "\t\t\t\tP = i\n",
        "\treturn P\n",
        "\n",
        "\n",
        "def Simulation(hp):\n",
        "\n",
        "\n",
        "\n",
        "\tglobal RealTime_task\n",
        "\tRealTime_task = copy.deepcopy(tasks)\n",
        "\n",
        "\tfor i in RealTime_task.keys():\n",
        "\t\tRealTime_task[i][\"DCT\"] = RealTime_task[i][\"WCET\"]\n",
        "\t\tif (RealTime_task[i][\"WCET\"] > RealTime_task[i][\"Period\"]):\n",
        "\t\t\tprint(\" \\n\\t The task can not be completed in the specified time ! \", i )\n",
        "\n",
        "\n",
        "\tfor t in range(hp):\n",
        "\n",
        "\n",
        "\t\tpriority = estimatePriority(RealTime_task)\n",
        "\n",
        "\t\tif (priority != -1):    #processor is not idle\n",
        "\t\t\tprint(\"\\nt{}-->t{} :TASK{}\".format(t,t+1,priority))\n",
        "\n",
        "\t\t\tRealTime_task[priority][\"WCET\"] -= 1\n",
        "\n",
        "\t\t\tdList[\"TASK_%d\"%priority][\"start\"].append(t)\n",
        "\t\t\tdList[\"TASK_%d\"%priority][\"finish\"].append(t+1)\n",
        "\n",
        "\t\t\ty_axis.append(\"TASK%d\"%priority)\n",
        "\t\t\tfrom_x.append(t)\n",
        "\t\t\tto_x.append(t+1)\n",
        "\n",
        "\t\telse:    #processor is idle\n",
        "\t\t\tprint(\"\\nt{}-->t{} :IDLE\".format(t,t+1))\n",
        "\n",
        "\t\t\tdList[\"TASK_IDLE\"][\"start\"].append(t)\n",
        "\t\t\tdList[\"TASK_IDLE\"][\"finish\"].append(t+1)\n",
        "\n",
        "\t\t\ty_axis.append(\"IDLE\")\n",
        "\t\t\tfrom_x.append(t)\n",
        "\t\t\tto_x.append(t+1)\n",
        "\n",
        "\n",
        "\t\tfor i in RealTime_task.keys():\n",
        "\t\t\tRealTime_task[i][\"Period\"] -= 1\n",
        "\t\t\tif (RealTime_task[i][\"Period\"] == 0):\n",
        "\t\t\t\tRealTime_task[i] = copy.deepcopy(tasks[i])\n",
        "\n",
        "\t\twith open('RM_sched.json','w') as outfile2:\n",
        "\t\t\tjson.dump(dList,outfile2,indent = 4)\n",
        "\n",
        "\n",
        "def drawGantt():\n",
        "\n",
        "\tcolors = ['red','green','blue','orange','yellow']\n",
        "\tfig = plt.figure()\n",
        "\tax = fig.add_subplot(111)\n",
        "\n",
        "\tax = plt.hlines(y_axis, from_x, to_x, linewidth=20, color = colors[n-1])\n",
        "\tplt.title('Rate Monotonic scheduling')\n",
        "\tplt.grid(True)\n",
        "\tplt.xlabel(\"Real-Time clock\")\n",
        "\tplt.ylabel(\"HIGH------------------Priority--------------------->LOW\")\n",
        "\tplt.xticks(np.arange(min(from_x), max(to_x)+1, 1.0))\n",
        "\tplt.show()\n",
        "\n",
        "\n",
        "def showMetrics():\n",
        "\n",
        "\tN = []\n",
        "\tstartTime = []\n",
        "\treleaseTime = []\n",
        "\tfinishTime = []\n",
        "\tavg_respTime = []\n",
        "\tavg_waitTime = []\n",
        "\n",
        "\n",
        "\tfor i in tasks.keys():\n",
        "\t\trelease =int(hp)/int(tasks[i][\"Period\"])\n",
        "\t\tN.append(release)\n",
        "\t\ttemp = []\n",
        "\t\tfor j in range(int(N[i])):\n",
        "\t\t\ttemp.append(j*int(tasks[i][\"Period\"]))\n",
        "\t\t# temp.append(hp)\n",
        "\t\treleaseTime.append(temp)\n",
        "\n",
        "\tfor j,i in enumerate(tasks.keys()):\n",
        "\t\tstart_array,end_array = filter_out(dList[\"TASK_%d\"%i][\"start\"],dList[\"TASK_%d\"%i][\"finish\"],N[j])\n",
        "\t\tstartTime.append(start_array)\n",
        "\t\tfinishTime.append(end_array)\n",
        "\n",
        "\n",
        "\tfor i in tasks.keys():\n",
        "\t\tavg_waitTime.append(st.mean([a_i - b_i for a_i, b_i in zip(startTime[i],releaseTime[i])]))\n",
        "\t\tavg_respTime.append(st.mean([a_i - b_i for a_i, b_i in zip(finishTime[i],releaseTime[i])]))\n",
        "\n",
        "\n",
        "\tfor i in tasks.keys():\n",
        "\t\tmetrics[i][\"Releases\"] = N[i]\n",
        "\t\tmetrics[i][\"Period\"] = tasks[i][\"Period\"]\n",
        "\t\tmetrics[i][\"WCET\"] = tasks[i][\"WCET\"]\n",
        "\t\tmetrics[i][\"AvgRespTime\"] = avg_respTime[i]\n",
        "\t\tmetrics[i][\"AvgWaitTime\"] = avg_waitTime[i]\n",
        "\n",
        "\t\tprint(\"\\n Number of releases of task %d =\"%i,int(N[i]))\n",
        "\t\tprint(\"\\n Release time of task%d = \"%i,releaseTime[i])\n",
        "\t\tprint(\"\\n start time of task %d = \"%i,startTime[i])\n",
        "\t\tprint(\"\\n finish time of task %d = \"%i,finishTime[i])\n",
        "\t\tprint(\"\\n Average Response time of task %d = \"%i,avg_respTime[i])\n",
        "\t\tprint(\"\\n Average Waiting time of task %d = \"%i,avg_waitTime[i])\n",
        "\t\tprint(\"\\n\")\n",
        "\n",
        "\n",
        "\twith open('Metrics.json','w') as f:\n",
        "\t\tjson.dump(metrics,f,indent = 4)\n",
        "\tprint(\"\\n\\n\\t\\tScheduling of %d tasks completed succesfully....\"%n)\n",
        "\n",
        "\n",
        "def filter_out(start_array,finish_array,release_time):\n",
        "\n",
        "\tnew_start = []\n",
        "\tnew_finish = []\n",
        "\tbeg_time = min(start_array)\n",
        "\tdiff = int(hp/release_time)\n",
        "\n",
        "\tif(release_time>1):\n",
        "\t\tnew_start.append(beg_time)\n",
        "\t\tprev = beg_time\n",
        "\t\tfor i in range(int(release_time-1)):\n",
        "\t\t\tbeg_time = beg_time + diff\n",
        "\t\t\tnew_start.append(beg_time)\n",
        "\t\t\tcount = start_array.index(prev)\n",
        "\t\t\tfor i in range(start_array.index(prev),start_array.index(beg_time)-1):\n",
        "\t\t\t\t\tcount+=1\n",
        "\t\t\tnew_finish.append(finish_array[count])\n",
        "\t\t\tprev = beg_time\n",
        "\t\tnew_finish.append(max(finish_array))\n",
        "\n",
        "\telse:\n",
        "\t\tend_time = max(finish_array)\n",
        "\t\tnew_start.append(beg_time)\n",
        "\t\tnew_finish.append(int(end_time))\n",
        "\treturn new_start,new_finish\n",
        "\n",
        "\n",
        "if __name__ == '__main__':\n",
        "\n",
        "\tprint(\"\\n\\n\\t\\t_RATE MONOTONIC SCHEDULER_\\n\")\n",
        "\n",
        "\tRead_data()\n",
        "\tsched_res = Schedulablity()\n",
        "\tif sched_res == True:\n",
        "\n",
        "\t\thp = Hyperperiod()\n",
        "\t\tSimulation(hp)\n",
        "\t\tshowMetrics()\n",
        "\t\tdrawGantt()\n",
        "\n",
        "\telse:\n",
        "\n",
        "\t\tRead_data()\n",
        "\t\tsched_res = Schedulablity()"
      ],
      "metadata": {
        "colab": {
          "base_uri": "https://localhost:8080/"
        },
        "id": "PmeCfrR-_sBK",
        "outputId": "5b15070d-0775-4e25-cdb2-e5b4a90dae58"
      },
      "execution_count": null,
      "outputs": [
        {
          "output_type": "stream",
          "name": "stdout",
          "text": [
            "\n",
            "\n",
            "\t\t_RATE MONOTONIC SCHEDULER_\n",
            "\n",
            "\n",
            " \t\tEnter number of Tasks:3\n",
            "\n",
            "\n",
            "\n",
            " Enter Period of task T 0 :\n",
            "10\n",
            "Enter the WCET of task C 0 :\n",
            "2\n",
            "\n",
            "\n",
            "\n",
            " Enter Period of task T 1 :\n",
            "15\n",
            "Enter the WCET of task C 1 :\n",
            "3\n",
            "\n",
            "\n",
            "\n",
            " Enter Period of task T 2 :\n",
            "12\n",
            "Enter the WCET of task C 2 :\n",
            "5\n",
            "\n",
            "Utilization factor:  0.8166666666666667 underloaded tasks\n",
            "Checking condition:  0.7797631496846196\n",
            "\n",
            "\tTasks are not schedulable by Rate Monotonic Scheduling!\n",
            "\n",
            " \t\tEnter number of Tasks:5\n",
            "\n",
            "\n",
            "\n",
            " Enter Period of task T 0 :\n",
            "10\n",
            "Enter the WCET of task C 0 :\n",
            "2\n",
            "\n",
            "\n",
            "\n",
            " Enter Period of task T 1 :\n",
            "15\n",
            "Enter the WCET of task C 1 :\n",
            "3\n",
            "\n",
            "\n",
            "\n",
            " Enter Period of task T 2 :\n",
            "20\n",
            "Enter the WCET of task C 2 :\n",
            "1\n",
            "\n",
            "\n",
            "\n",
            " Enter Period of task T 3 :\n",
            "25\n",
            "Enter the WCET of task C 3 :\n",
            "2\n",
            "\n",
            "\n",
            "\n",
            " Enter Period of task T 4 :\n",
            "10\n",
            "Enter the WCET of task C 4 :\n",
            "1\n",
            "\n",
            "\tOverloaded tasks!\n",
            "\n",
            "\tUtilization factor > 1\n"
          ]
        }
      ]
    },
    {
      "cell_type": "code",
      "source": [],
      "metadata": {
        "id": "ebEswJwuzbJ5"
      },
      "execution_count": null,
      "outputs": []
    }
  ]
}